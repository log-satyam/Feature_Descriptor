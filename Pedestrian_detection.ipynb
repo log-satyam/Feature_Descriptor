{
 "cells": [
  {
   "cell_type": "code",
   "execution_count": 7,
   "id": "4b8d3d2e",
   "metadata": {},
   "outputs": [],
   "source": [
    "import cv2\n",
    "import numpy as np\n",
    "from imutils import resize\n",
    "from imutils.object_detection import non_max_suppression"
   ]
  },
  {
   "cell_type": "code",
   "execution_count": 8,
   "id": "a587759e",
   "metadata": {},
   "outputs": [],
   "source": [
    "img = cv2.imread('p3.jpeg')\n",
    "img = resize(img,height=400)"
   ]
  },
  {
   "cell_type": "code",
   "execution_count": 9,
   "id": "3e704a6e",
   "metadata": {},
   "outputs": [],
   "source": [
    "hog_cv = cv2.HOGDescriptor()\n",
    "hog_cv.setSVMDetector(cv2.HOGDescriptor_getDefaultPeopleDetector())"
   ]
  },
  {
   "cell_type": "code",
   "execution_count": 10,
   "id": "0f75912b",
   "metadata": {},
   "outputs": [],
   "source": [
    "rects,weight = hog_cv.detectMultiScale(img,winStride=(4,4),padding=(8,8),scale=1.03)"
   ]
  },
  {
   "cell_type": "code",
   "execution_count": 11,
   "id": "15b4d75f",
   "metadata": {},
   "outputs": [],
   "source": [
    "copy = img.copy()"
   ]
  },
  {
   "cell_type": "code",
   "execution_count": 12,
   "id": "f7abf940",
   "metadata": {},
   "outputs": [],
   "source": [
    "# Before performing non max supression\n",
    "for x,y,w,h in rects:\n",
    "    cv2.rectangle(copy,(x,y),(x+w,y+h),(0,0,255),2)\n",
    "cv2.imshow('before suppression',copy)\n",
    "cv2.waitKey(0)\n",
    "r = np.array([[x,y,x+w,y+h] for x,y,w,h in rects])\n",
    "pick = non_max_suppression(r,probs=None,overlapThresh=0.20)    \n",
    "for xa,ya,xb,yb in pick:\n",
    "    cv2.rectangle(img,(xa,ya),(xb,yb),(0,255,0),2)\n",
    "cv2.imshow('after suppression',img)\n",
    "cv2.waitKey(0)\n",
    "cv2.destroyAllWindows()"
   ]
  }
 ],
 "metadata": {
  "kernelspec": {
   "display_name": "Python 3 (ipykernel)",
   "language": "python",
   "name": "python3"
  },
  "language_info": {
   "codemirror_mode": {
    "name": "ipython",
    "version": 3
   },
   "file_extension": ".py",
   "mimetype": "text/x-python",
   "name": "python",
   "nbconvert_exporter": "python",
   "pygments_lexer": "ipython3",
   "version": "3.11.3"
  }
 },
 "nbformat": 4,
 "nbformat_minor": 5
}
